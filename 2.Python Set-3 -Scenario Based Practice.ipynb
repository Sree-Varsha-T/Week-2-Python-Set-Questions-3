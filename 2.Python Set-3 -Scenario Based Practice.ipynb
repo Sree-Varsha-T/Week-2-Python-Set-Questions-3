{
 "cells": [
  {
   "cell_type": "code",
   "execution_count": 17,
   "id": "2b60adbf-d98a-42e5-b068-a200b6d1a8d1",
   "metadata": {},
   "outputs": [
    {
     "name": "stdin",
     "output_type": "stream",
     "text": [
      "Enter an Integer: 23a\n"
     ]
    },
    {
     "name": "stdout",
     "output_type": "stream",
     "text": [
      "Invalid Input\n"
     ]
    },
    {
     "name": "stdin",
     "output_type": "stream",
     "text": [
      "Enter an Integer: abyu\n"
     ]
    },
    {
     "name": "stdout",
     "output_type": "stream",
     "text": [
      "Invalid Input\n"
     ]
    },
    {
     "name": "stdin",
     "output_type": "stream",
     "text": [
      "Enter an Integer: $^&\n"
     ]
    },
    {
     "name": "stdout",
     "output_type": "stream",
     "text": [
      "Invalid Input\n"
     ]
    },
    {
     "name": "stdin",
     "output_type": "stream",
     "text": [
      "Enter an Integer: 23\n"
     ]
    },
    {
     "name": "stdout",
     "output_type": "stream",
     "text": [
      "The Valid Integer Input is 23\n"
     ]
    }
   ],
   "source": [
    "#1.To repeatedly prompt the user until they enter a valid integer.\n",
    "while True:\n",
    "\t    user_input=input(\"Enter an Integer:\")\n",
    "\t    \n",
    "\t    try:\n",
    "\t        user_input=int(user_input)\n",
    "\t        break\n",
    "\t    except ValueError:\n",
    "\t        print(\"Invalid Input\")\n",
    "print(f\"The Valid Integer Input is {user_input}\")\n",
    "\n"
   ]
  },
  {
   "cell_type": "code",
   "execution_count": 18,
   "id": "06c875a7-ce6c-4bed-82e3-95454b660bb5",
   "metadata": {},
   "outputs": [
    {
     "name": "stdin",
     "output_type": "stream",
     "text": [
      "Enter numbers separated by commas: 2,2,3,4,5,7,8,2\n"
     ]
    },
    {
     "name": "stdout",
     "output_type": "stream",
     "text": [
      "The Most frequently occuring Value in the list [2, 2, 3, 4, 5, 7, 8, 2] is 2\n"
     ]
    }
   ],
   "source": [
    "#2.To find the most frequently occurring number in a given list.\n",
    "list_num=list(map(int,input(\"Enter numbers separated by commas:\").split(',')))\n",
    "most_freq_val=max(set(list_num),key=list_num.count)\n",
    "print(f\"The Most frequently occuring Value in the list {list_num} is {most_freq_val}\")"
   ]
  },
  {
   "cell_type": "code",
   "execution_count": 21,
   "id": "a9b501b5-45cc-4e76-af79-3e087764336d",
   "metadata": {},
   "outputs": [
    {
     "name": "stdin",
     "output_type": "stream",
     "text": [
      "Enter a word: hello\n",
      "Enter another word: olleh\n"
     ]
    },
    {
     "name": "stdout",
     "output_type": "stream",
     "text": [
      "Anagrams\n"
     ]
    }
   ],
   "source": [
    "#3.To determine whether two given strings are anagrams.\n",
    "word1=input(\"Enter a word:\")\n",
    "word2=input(\"Enter another word:\")\n",
    "word1_sort=sorted(word1)\n",
    "word2_sort=sorted(word2)\n",
    "def is_anagrams(w1,w2,w1sort,w2sort):\n",
    "    if len(w1)==len(w2):\n",
    "        return w1sort==w2sort\n",
    "    return False \n",
    "if is_anagrams(word1,word2,word1_sort,word2_sort):\n",
    "    print(\"Anagrams\")\n",
    "else:\n",
    "    print(\"Not Anagarams\")"
   ]
  },
  {
   "cell_type": "code",
   "execution_count": 22,
   "id": "8e3af503-02ed-4664-b01b-ddd42b4e38f2",
   "metadata": {},
   "outputs": [
    {
     "name": "stdin",
     "output_type": "stream",
     "text": [
      "Enter a word: Hey\n"
     ]
    },
    {
     "name": "stdout",
     "output_type": "stream",
     "text": [
      "Number of vowels: 1\n"
     ]
    }
   ],
   "source": [
    "#4.Count the number of vowels in a given string.\n",
    "string=input(\"Enter a word:\")\n",
    "no_of_vowels=0\n",
    "for character in range(len(string)):\n",
    "    if string[character] in 'aeiouAEIOU':\n",
    "        no_of_vowels+=1\n",
    "print(f\"Number of vowels: {no_of_vowels}\")"
   ]
  },
  {
   "cell_type": "code",
   "execution_count": 25,
   "id": "fc7306bd-aeb8-4158-949c-0e3700770d2c",
   "metadata": {},
   "outputs": [
    {
     "name": "stdin",
     "output_type": "stream",
     "text": [
      "Enter a sentence: Happy Vibrant Glowing Joyful Radiant\n"
     ]
    },
    {
     "name": "stdout",
     "output_type": "stream",
     "text": [
      "Radiant Joyful Glowing Vibrant Happy\n"
     ]
    }
   ],
   "source": [
    "#5.Reverse the order of words in a sentence while keeping the words themselves intact.\n",
    "list_words=input(\"Enter a sentence:\").split()\n",
    "list_words.reverse()\n",
    "rev=' '.join(list_words)\n",
    "print(rev)"
   ]
  },
  {
   "cell_type": "code",
   "execution_count": 31,
   "id": "088ee794-748a-4f38-88db-cbc5a1715523",
   "metadata": {},
   "outputs": [
    {
     "name": "stdout",
     "output_type": "stream",
     "text": [
      "The missing number in the list [1, 2, 3, 4, 5, 6, 7, 8, 9, 10, 11, 12, 13, 14, 15, 16, 18, 19] is [17]\n"
     ]
    }
   ],
   "source": [
    "#6.To find the missing number in a list containing n-1 numbers from 1 to n.\n",
    "list_num=[num for num in range(1,20) if num!=17]#list of numbers from 1-19 excluding 17\n",
    "missing_num=[list_num[num] +1 for num in range(len(list_num)-1) if list_num[num]+1 != list_num[num+1] ]\n",
    "print(f\"The missing number in the list {list_num} is {missing_num}\")\n",
    "'''list_num = [num for num in range(1, 20) if num != 17]\n",
    "missing_num = [num for num in range(1, 20) if num not in list_num]'''"
   ]
  },
  {
   "cell_type": "code",
   "execution_count": 33,
   "id": "944b62ec-2e72-41fb-9afd-6178aacc82d9",
   "metadata": {},
   "outputs": [
    {
     "name": "stdin",
     "output_type": "stream",
     "text": [
      "Enter numbers separated by commas: 2,2,4,6,7\n"
     ]
    },
    {
     "name": "stdout",
     "output_type": "stream",
     "text": [
      "Duplicates Found!!\n"
     ]
    }
   ],
   "source": [
    "#7.To check whether a given list contains duplicate values.\n",
    "list_num=list(map(int,input(\"Enter numbers separated by commas:\").split(',')))\n",
    "list_num_uniq=list(set(list_num))\n",
    "if list_num == list_num_uniq:\n",
    "    print(\"No duplicate Values\")\n",
    "else:\n",
    "    print(\"Duplicates Found!!\")"
   ]
  },
  {
   "cell_type": "code",
   "execution_count": 35,
   "id": "b73d8805-99cc-4c21-8fe8-f9846246a8a7",
   "metadata": {},
   "outputs": [
    {
     "name": "stdin",
     "output_type": "stream",
     "text": [
      "Enter a integer: 234\n"
     ]
    },
    {
     "name": "stdout",
     "output_type": "stream",
     "text": [
      "The sum of the digits of the integer 234 is 9\n"
     ]
    }
   ],
   "source": [
    "#8.To calculate the sum of all digits in a given integer.\n",
    "integer_string=input(\"Enter a integer:\")\n",
    "integer_list=list(map(int,integer_string))\n",
    "sum_of_digits=0\n",
    "for num in range(len(integer_list)):\n",
    "    sum_of_digits+=integer_list[num]\n",
    "print(f\"The sum of the digits of the integer {integer_string} is {sum_of_digits}\")\n",
    "    \n",
    "\n"
   ]
  },
  {
   "cell_type": "code",
   "execution_count": 42,
   "id": "5a02faa0-1050-4aae-91b6-037a95345fca",
   "metadata": {},
   "outputs": [
    {
     "name": "stdin",
     "output_type": "stream",
     "text": [
      "Enter a sentence: The quick brown fox jumps over the lazy dog\n"
     ]
    },
    {
     "name": "stdout",
     "output_type": "stream",
     "text": [
      "Pangram\n"
     ]
    }
   ],
   "source": [
    "#9.To check if a given sentence is a pangram.\n",
    "import string\n",
    "sentence=input(\"Enter a sentence:\").lower()\n",
    "sentence=[char for char in sentence if char in string.ascii_letters]\n",
    "sentence.sort()\n",
    "sentence_uniq=list(set(sentence))\n",
    "letters=''.join(sentence_uniq)\n",
    "if len(letters)==26:\n",
    "    print(\"Pangram\")\n",
    "else:\n",
    "    print(\"Not a Pangram\")"
   ]
  },
  {
   "cell_type": "code",
   "execution_count": null,
   "id": "23931c7b-baac-4a5a-9c98-c3f3d6f2271f",
   "metadata": {},
   "outputs": [],
   "source": []
  }
 ],
 "metadata": {
  "kernelspec": {
   "display_name": "Python [conda env:base] *",
   "language": "python",
   "name": "conda-base-py"
  },
  "language_info": {
   "codemirror_mode": {
    "name": "ipython",
    "version": 3
   },
   "file_extension": ".py",
   "mimetype": "text/x-python",
   "name": "python",
   "nbconvert_exporter": "python",
   "pygments_lexer": "ipython3",
   "version": "3.13.5"
  }
 },
 "nbformat": 4,
 "nbformat_minor": 5
}
