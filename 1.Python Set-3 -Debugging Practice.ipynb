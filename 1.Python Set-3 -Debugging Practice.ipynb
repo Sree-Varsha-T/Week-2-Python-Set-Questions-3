{
 "cells": [
  {
   "cell_type": "code",
   "execution_count": 1,
   "id": "dd89b850-dca0-4c48-aa93-6a375d68f4e9",
   "metadata": {},
   "outputs": [],
   "source": [
    "#1.What is wrong with the following function definition, and how do you fix it?\n",
    "\n",
    "\n",
    "def say_hello(name):\n",
    "    print(\"Hello, \" + name)"
   ]
  },
  {
   "cell_type": "code",
   "execution_count": 2,
   "id": "a5874e97-84d7-45d4-a185-607b149252d5",
   "metadata": {},
   "outputs": [
    {
     "name": "stdout",
     "output_type": "stream",
     "text": [
      "I am 25 years old\n"
     ]
    }
   ],
   "source": [
    "#2.What error will occur in the following code, and how do you fix it?\n",
    "\n",
    "\n",
    "age = 25\n",
    "print(\"I am \" + str(age) + \" years old\")"
   ]
  },
  {
   "cell_type": "code",
   "execution_count": 3,
   "id": "900e0d4c-235c-4c45-a525-1c3ee4744516",
   "metadata": {},
   "outputs": [
    {
     "name": "stdout",
     "output_type": "stream",
     "text": [
      "Hello\n"
     ]
    }
   ],
   "source": [
    "#3.Question:What is the issue with the following code?\n",
    "\n",
    "def greet():\n",
    "    message = \"Hello\"\n",
    "    return message\n",
    "print(greet())"
   ]
  },
  {
   "cell_type": "code",
   "execution_count": 4,
   "id": "cf15bfb1-73bf-4ac3-bef0-d9d1c0c64295",
   "metadata": {},
   "outputs": [
    {
     "name": "stdout",
     "output_type": "stream",
     "text": [
      "5\n"
     ]
    }
   ],
   "source": [
    "#4.What error will occur in the following code, and how do you fix it?\n",
    "\n",
    "def add(a, b):\n",
    "    return a + b\n",
    "\n",
    "print(add(2,3))"
   ]
  },
  {
   "cell_type": "code",
   "execution_count": 5,
   "id": "543ac570-25a5-48b5-88e1-1f2878ae5fed",
   "metadata": {},
   "outputs": [],
   "source": [
    "#5.What is wrong with this code?\n",
    "\n",
    "def is_even(n):\n",
    "    if n % 2 == 1:\n",
    "        return False\n",
    "    else:\n",
    "        return True"
   ]
  },
  {
   "cell_type": "code",
   "execution_count": 16,
   "id": "dd27f904-00b8-47c5-8adb-886a93255b32",
   "metadata": {},
   "outputs": [
    {
     "name": "stdout",
     "output_type": "stream",
     "text": [
      "Not a integer\n"
     ]
    }
   ],
   "source": [
    "#6.What happens when you run this code?\n",
    "\n",
    "num = \"10a\"\n",
    "print(int(num)) if type(num)==int else print(\"Not a integer\")"
   ]
  },
  {
   "cell_type": "code",
   "execution_count": 10,
   "id": "19bd9f4c-6b96-4c97-a503-fd0486c146ef",
   "metadata": {},
   "outputs": [
    {
     "name": "stdout",
     "output_type": "stream",
     "text": [
      "[4, 3, 2, 1]\n"
     ]
    }
   ],
   "source": [
    "#7.What will happen when you run the following code?\n",
    "\n",
    "\n",
    "numbers = [1, 2, 3, 4]\n",
    "numbers.sort()\n",
    "numbers.reverse()\n",
    "print(numbers)"
   ]
  },
  {
   "cell_type": "code",
   "execution_count": 13,
   "id": "ae606145-c086-4e75-828e-d15770e24ffe",
   "metadata": {},
   "outputs": [
    {
     "name": "stdout",
     "output_type": "stream",
     "text": [
      "[1, 2, 3, 4]\n"
     ]
    }
   ],
   "source": [
    "#8.What is the issue with this code?\n",
    "\n",
    "\n",
    "numbers = [1, 2, 3]\n",
    "numbers.append(4)\n",
    "print(numbers)"
   ]
  },
  {
   "cell_type": "code",
   "execution_count": 14,
   "id": "094efc76-0155-4bc4-b7af-4e6ab3a2d078",
   "metadata": {},
   "outputs": [
    {
     "name": "stdout",
     "output_type": "stream",
     "text": [
      "11\n"
     ]
    }
   ],
   "source": [
    "#9.What will happen when you run the following code?\n",
    "\n",
    "\n",
    "count = 10\n",
    "\n",
    "def increment():\n",
    "    global count\n",
    "    count += 1\n",
    "    print(count)\n",
    "\n",
    "increment()"
   ]
  },
  {
   "cell_type": "code",
   "execution_count": 17,
   "id": "40217ecb-2d12-4215-8542-9304587c97ae",
   "metadata": {},
   "outputs": [
    {
     "name": "stdout",
     "output_type": "stream",
     "text": [
      "Invalid Index\n"
     ]
    }
   ],
   "source": [
    "#10.What error will occur in the following code?\n",
    "\n",
    "text = \"Python\"\n",
    "\n",
    "print(text[10]) if len(text)>=10 else print(\"Invalid Index\")"
   ]
  },
  {
   "cell_type": "code",
   "execution_count": null,
   "id": "32a035f4-9f81-4c3d-a489-f5aba03a0019",
   "metadata": {},
   "outputs": [],
   "source": []
  }
 ],
 "metadata": {
  "kernelspec": {
   "display_name": "Python [conda env:base] *",
   "language": "python",
   "name": "conda-base-py"
  },
  "language_info": {
   "codemirror_mode": {
    "name": "ipython",
    "version": 3
   },
   "file_extension": ".py",
   "mimetype": "text/x-python",
   "name": "python",
   "nbconvert_exporter": "python",
   "pygments_lexer": "ipython3",
   "version": "3.13.5"
  }
 },
 "nbformat": 4,
 "nbformat_minor": 5
}
