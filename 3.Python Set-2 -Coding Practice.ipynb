{
 "cells": [
  {
   "cell_type": "code",
   "execution_count": 1,
   "id": "92ace879-26c6-4efb-ba73-596b2f9b10ce",
   "metadata": {},
   "outputs": [
    {
     "name": "stdout",
     "output_type": "stream",
     "text": [
      "1 4 9 16 25 "
     ]
    }
   ],
   "source": [
    "'''#1. Square of Numbers from 1 to 5\n",
    "Output:\n",
    "1 4 9 16 25'''\n",
    "for num in range(1,6):\n",
    "    square=num**2\n",
    "    print(square,end=' ')"
   ]
  },
  {
   "cell_type": "code",
   "execution_count": 2,
   "id": "214f065f-465b-4200-aee0-7b0f1789988e",
   "metadata": {},
   "outputs": [
    {
     "name": "stdout",
     "output_type": "stream",
     "text": [
      "10 5\n"
     ]
    }
   ],
   "source": [
    "'''#2.Swap Two Variables Without Using a Temporary Variable\n",
    "Question: Write a Python program to swap two variables a = 5 and b = 10 without using a temporary variable.'''\n",
    "a=5\n",
    "b=10\n",
    "(a,b)=(b,a)\n",
    "print(a,b)"
   ]
  },
  {
   "cell_type": "code",
   "execution_count": 3,
   "id": "aacf23b2-5473-4125-b7aa-29e64cde6a2b",
   "metadata": {},
   "outputs": [
    {
     "name": "stdout",
     "output_type": "stream",
     "text": [
      "Even Numbers [12, 24, 40, 56] and Odd Numbers [17, 19, 35]\n"
     ]
    }
   ],
   "source": [
    "'''#3.Find Even and Odd Numbers in a List\n",
    "Question: Write a Python program to separate even and odd numbers from the list [12, 17, 19, 24, 35, 40, 56].'''\n",
    "num_list=[12, 17, 19, 24, 35, 40, 56]\n",
    "even_list=[num for num in num_list if num%2==0]\n",
    "odd_list=[num for num in num_list if num%2==1]\n",
    "print(f\"Even Numbers {even_list} and Odd Numbers {odd_list}\")"
   ]
  },
  {
   "cell_type": "code",
   "execution_count": 4,
   "id": "38fbcd6a-a72a-4239-87d1-330269bd39fe",
   "metadata": {},
   "outputs": [
    {
     "name": "stdout",
     "output_type": "stream",
     "text": [
      "54321\n"
     ]
    }
   ],
   "source": [
    "'''#4. Reverse a Number\n",
    "Question: Write a Python program to reverse the number 12345'''\n",
    "num=str(12345)\n",
    "str_reverse=num[::-1]\n",
    "num_reverse=int(str_reverse)\n",
    "print(num_reverse)"
   ]
  },
  {
   "cell_type": "code",
   "execution_count": 6,
   "id": "4df4ff43-8654-422e-a6f9-a3e5f7f8fb7f",
   "metadata": {},
   "outputs": [
    {
     "name": "stdout",
     "output_type": "stream",
     "text": [
      "The second largest digit is 45\n"
     ]
    }
   ],
   "source": [
    "'''#5.Find the Second Largest Number in a List\n",
    "Question: Write a Python program to find the second largest number in the list [12, 45, 98, 34, 23].'''\n",
    "num_list=[12, 45, 98, 34, 23]\n",
    "num_list.sort()\n",
    "print(f\"The second largest digit is {num_list[-2]}\")"
   ]
  },
  {
   "cell_type": "code",
   "execution_count": null,
   "id": "93017f00-5158-45cc-bb2e-9346b848445c",
   "metadata": {},
   "outputs": [],
   "source": []
  }
 ],
 "metadata": {
  "kernelspec": {
   "display_name": "Python [conda env:base] *",
   "language": "python",
   "name": "conda-base-py"
  },
  "language_info": {
   "codemirror_mode": {
    "name": "ipython",
    "version": 3
   },
   "file_extension": ".py",
   "mimetype": "text/x-python",
   "name": "python",
   "nbconvert_exporter": "python",
   "pygments_lexer": "ipython3",
   "version": "3.13.5"
  }
 },
 "nbformat": 4,
 "nbformat_minor": 5
}
